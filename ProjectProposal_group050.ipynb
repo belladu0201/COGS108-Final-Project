{
 "cells": [
  {
   "cell_type": "markdown",
   "metadata": {},
   "source": [
    "# COGS 108 - Final Project Proposal"
   ]
  },
  {
   "cell_type": "markdown",
   "metadata": {},
   "source": [
    "# Names\n",
    "\n",
    "- Scott Yang\n",
    "- Beibei Du\n",
    "- Lulu Tong\n",
    "- Jinghan Cao"
   ]
  },
  {
   "cell_type": "markdown",
   "metadata": {},
   "source": [
    "# Research Question"
   ]
  },
  {
   "cell_type": "markdown",
   "metadata": {},
   "source": [
    "How remote learning at UCSD during COVID-19 pandemic affects undergraduate students' academic performance and expectation?"
   ]
  },
  {
   "cell_type": "markdown",
   "metadata": {},
   "source": [
    "## Background and Prior Work"
   ]
  },
  {
   "cell_type": "markdown",
   "metadata": {},
   "source": [
    "## **COVID-19 Situation and its impact on UCSD Students**\n",
    "- Covid-19, “an illness caused by a virus that can spread from person to person” in which the best way of prevention is to stay at home as much as possible, has led to a total shift of learning model: from in-person and synchronous learning to remote and often asynchronous (CDC 1). The change in education model is a big challenge for both the institution (the school broad, admissions, teaching faculty) and students. Not only  are classes now held on Zoom, all forms of communication are conducted using teaching platforms such as Canvas. Both instructors and students need to adapt to the new learning model and resume their work quickly. The classes are live and/or recorded. This design makes the learning more flexible and may lead to different learning expectations and outcomes from in-person learning. Studying the specific case at UCSD, this project intends to analyze how remote learning during Covid-19 pandemic affects undergraduate students’ academic expectations and performance. https://www.cdc.gov/coronavirus/2019-ncov/downloads/2019-ncov-factsheet.pdf \n",
    "- Given this situation, remote learning is inescapable and adds new challenges to undergraduate students. Without the access to the physical infrastructure and resources, we deduce that students' academic performance and efficiency might decrease as well. Without required meeting time and mandatory attendance policy, some of the students might fall behind because they do not experience the atmosphere of being physical at college. Furthermore, the in-person discussions and exchange of thoughts held in class meetings, the physical textbooks and papers that students can access through the library, the study room students can book in Geisel library, the physical access to advanced lab equipment in the laboratory, and the club rush and sport seasons that can be held on campus and receive campus-wide attention and participation during the regular school year in the absence of pandemic are now detached from students’ regular study. These attributes that are fundamental to a student’s learning and academic performance can only be experienced in a real-world setting. Due to quarantine, most students lost access to these, and this might affect their academic performance. Although the teaching faculty thrive to produce a “real” classroom environment by encouraging students to speak up using their microphone or “raise” their hands via Zoom “raise hand” icon, it might also distract students when they are learning.\n",
    "- Besides the potential academic underperformance of remoting learning, some students may struggle in their lives outside of class. Some students may lack the access to a reliable Internet or an Internet at all; others may not have a working laptop or computer. These technical difficulties may greatly undermine one’s academic performance. The financial difficulties a student and their family might face due to furlough and economic recession can be another source of stress. Students may be in need of food and shelter. When physical need is not available or in short supply, one has to focus on living by and not academic success. Psychologically speaking, Covid-19 also brings challenges to students’ lives. Students may worry about themselves and/or their family members being tested positive of Covid-19. Students may feel desperate if, unfortunately, themselves and/or their family members have already been tested positive. Study may grieve upon the loss of a family member who died from Covid-19. When minds are occupied with negative emotions and/or pessimism, academic performance may be compromised. All these factors can weigh heavily on student learning. \n",
    "- Recognizing the shortcomings of remote learning, UCSD has made several adjustments to assist and support students’ academic success. Recently, an announcement was made in response to student grading. For Winter and Spring 2021, students can change their grading options (letter or P/NP) until the end of the tenth week of instruction compared to previously the end of fourth week; students can drop a class or withdraw from the quarter with a “W” grade until the end of the seventh week of instruction compared to previously the end of sixth week; the policy of maximum number of P/NP courses being 25% of the number of total courses and is now abolished, and students not in good academic standing are allowed to enroll in courses for P/NP credits; and students are now allowed to repeat courses with the P/NP grade option if previously taken for a letter grade. All modifications in school policy exemplify the school’s concern of and sense of responsibility to optimize the quality of student learning. These accommodations intend to help alleviate students’ stress over their academic performance given the physical, technical, financial, and psychological difficulties they may face and have to deal with in this depressing time.\n",
    "\n",
    "## Intro to CAPE\n",
    "- CAPE(Course And Professor Evaluation) is a UCSD system that allows students to access the information about the past enrollment, assessment on the courses and professors. Students are also encouraged to fill out a CAPE form for each of the classes that he/she took. We are able to access all the data. The most imperative features that take consideration here is “Study Hrs/wk”, “Avg Grade Expected”, “Avg Grade Received”. These columns provide data given by students at the end of each quarter voluntarily. This is one of the dataset that is valuable for the research question on whether pandemic affects student’s study time at UCSD. https://cape.ucsd.edu/\n",
    "\n",
    "## Prior work\n",
    "- A study in May investigated the impact of quarantine on medical students' mental wellbeing and learning behaviors. Through questionnaires with 530 students, they asked questions related to both psychological wellbeing and learning behaviors. In the learning behavior section, they found that more than half of students noticed deterioration in their work performance, having difficulty in performing tasks and changes in the hours of study and etc. They were able to conclude that quarantine has led to decreased academic performance for both female and male students and caused them to feel emotionally detached and stressed.\n",
    "- Our research topic and this project are both looking for the potential effect of quarantine on online learning behavior and performance, but our topic differs in that we are focusing more on the academic performance rather than behaviors and wellbeing. For our project, we could borrow their idea of using questionnaires with questions on students learning behaviors as another dataset for the analysis. While there are only two quarters of online learning, the data from CAPE may not serve a role in representing the overall trend, having questionnaires would add some more data for our analysis and provide a more detailed and descriptive view on how students' learning behaviors and academic performance changes. https://www.ncbi.nlm.nih.gov/pmc/articles/PMC7306952/\n"
   ]
  },
  {
   "cell_type": "markdown",
   "metadata": {},
   "source": [
    "# Hypothesis\n"
   ]
  },
  {
   "cell_type": "markdown",
   "metadata": {},
   "source": [
    "### Hypothesis 1\n",
    "- Does the study time increase or decrease on average after the quarantine during the COVID-19 for undergraduate students at UCSD?\n",
    "    - H0(null hypothesis): The remote learning environment does not affect a student's study hour outside of the class on average.\n",
    "    - H1(alternative hypothesis): The remote learning environment affects a student's study hour outside of the class on average."
   ]
  },
  {
   "cell_type": "markdown",
   "metadata": {},
   "source": [
    "### Hypothesis 2\n",
    "- Does the average overall academic performance of undergraduate students at UCSD increased or decreased during the pandemic compared to the pre-pandemic period?\n",
    "    - H0(null hypothesis): The remote learning environment does not affect the average overall academic performance of undergraduate students. \n",
    "    - H1(alternative hypothesis): The remote learning environment affects the average overall academic performance of undergraduate students. "
   ]
  },
  {
   "cell_type": "markdown",
   "metadata": {},
   "source": [
    "# Data"
   ]
  },
  {
   "cell_type": "markdown",
   "metadata": {},
   "source": [
    "## Variables:\n",
    "\n",
    "- Numbers of hours for every undergrad students in UCSD spent study per week in each specific courses they took in that quarter before COVID-19\n",
    "- Numbers of hours for every undergrad students in UCSD spent study per week in each specific courses they took in that quarter after COVID-19\n",
    "- The raw score every undergrad UCSD students received in academic quarter before and after the COVID-19\n",
    "- Every UCSD’s undergrad student’s expected grade for every single course they completed.\n",
    "- The Course descriptions of every single undergraduate courses in UCSD\n",
    "- Whether that courses is relatively hard to others (use to normalize the grades and average hours)\n",
    "- Every enrolled UCSD Undergraduate Students’ self assessment of their academic performance\n",
    "- Every students’ opinion about their academic performance prior and after the COVID-19 Pandemic.\n",
    "\n",
    "## Number of Observation:\n",
    "\n",
    "- Preferably the whole UCSD undergrad academic performance data from each course from UCSD. The data should encompass three to six regular academic quarters before the COVID-19 (past to WI20) and the three quarters that are in the remote learning regime (SP20, FA21). \n",
    "\n",
    "## Data Collection:\n",
    "\n",
    "- Access the survey information from the UCSD CAPE website.\n",
    "- Internet survey about the remote learning experience for the UCSD Students\n",
    "- Request for official statistics from UCSD registrar office\n",
    "- (Storing the Data) The data will be collected from the web and using data wrangling techniques to tidy and store the data in analysable format. Preferably stored .csv files that would be convenient for analysis.\n",
    "- (Data Cleaning) We will question the validity of the dataset by assessing the response rate and the amount of outliers in the given dataset.\n",
    "\n",
    "### Survey\n",
    "\n",
    "- We also conduct an anonymous survey asking students to rank their remote learning experience on a scale from 1-5 that 1 represents the least satisfied while the 5 represents most satisfied. There are also questions included in the questionnaire that will be included in the data section. There is an agreement acknowledgement below the header of the questionnaire.\n",
    "https://docs.google.com/forms/d/e/1FAIpQLSeiT1Uaj6AAn_C2xrLhIv7jbul3QmbZOM7r8vZqmE3iYa9V5w/viewform?usp=pp_url\n",
    "\n",
    "- The pandemic affects students in the United States, not only for the UCSD students. Considering the course structure and CAPE system that UCSD has, it will provide a stable and comparable data throughout different school years. From the analysis, it will be more clear to see how remote learning changes students' time consuming on learning as well as their overall performance. By analyzing the average data change and with hypothesis testing, we are able to see if remote learning is applicable for further promotion and provide a new way for education in the future and supply a new option for students that are not local. \n"
   ]
  },
  {
   "cell_type": "markdown",
   "metadata": {},
   "source": [
    "# Ethics & Privacy"
   ]
  },
  {
   "cell_type": "markdown",
   "metadata": {},
   "source": [
    "### The question:\n",
    "For the research question, we are looking at the effect of covid-19 quarantine on undergraduate students academic performance and expectation. We narrow the scope to only undergraduate students at UCSD to obtain more detailed and accurate results. \n",
    "### The implication: \n",
    "The project intends to explore the effect of remote learning on UCSD undergraduate students’ academic expectation and performance. From the conclusions we draw, we can gain some insights on the productiveness of the current remote learning model. Whether its learning outcome positively or negatively differs from in-person learning outcome can suggest what are the pros and how we can keep them as well as what are the cons and how we can eliminate them. Only by analyzing and reflecting our current way of doing can we improve.  \n",
    "### The data:\n",
    "We will mainly be using data from CAPE and using questionnaires. Given that we are focusing on the undergraduate students at UCSD, data from CAPE and questionnaires should be reliable and representative enough to answer the research question. One bias of our dataset may occur in the amount of data we can collect since the beginning of quarantine due to the fact that we only had two quarters that are entirely online so far. Therefore, we might need extra data from questionnaires to mitigate the issue. \n",
    "### Privacy:\n",
    "The data we will be collecting comes from public cites, which contain no personal sensitive information. Since CAPE is an evaluation system, the data collection of CAPE from students is anonymous in the first place; only opinions, expectations, and actual performance of the class and instructor will be recorded, preventing the leak of interviewees’ (i.e. students’) name, grade, and major. The survey we will be conducting will not violate the respondents’ privacy, too. It is anonymous and will solely be focusing on UCSD undergraduate students’ remote learning experience. It asks them to provide a list of online courses they have taken and are taking, an estimate of their time spent on learning and assignments, their academic expectation and performance of the class, and their thoughts of UCSD remote learning system. However, we understand that for some students, grades are a very private matter. Students who are willing to answer CAPE tend to be less concerned about grading privacy; hence, the ethic concern with CAPE is reasonably low. In our own survey, we will write a notice at the beginning to inform the respondents about questions of grading and explain to them that, if they are uncomfortable with sharing their grades, they can exit the survey at any point. \n",
    "Analysis:\n",
    "\n",
    "\n",
    "For analysis, we will take into account the potential confounding variables, and be cautious about drawing causal inferences between variables. We will be considering individual differences and the limitations of our real datasets when drawing conclusions. We will also avoid generalizing our findings at UCSD undergraduate to the entire U.S. undergraduate population. We will make sure that two features that we select are not correlated with each other, preventing any possibilities of leading to biased statistical analysis.\n"
   ]
  },
  {
   "cell_type": "markdown",
   "metadata": {},
   "source": [
    "# Team Expectations "
   ]
  },
  {
   "cell_type": "markdown",
   "metadata": {},
   "source": [
    "1. We expect to prepare things that are written in the third column of the timeline before the meeting and take some notes/code/ideas.\n",
    "1. We expect to keep track all the things on time along with other course materials in COGS108 and incorporate them into our project.\n",
    "1. We expect to meet each week to discuss progress \n",
    "1. We expect to divide responsibilities equally among group members. \n"
   ]
  },
  {
   "cell_type": "markdown",
   "metadata": {},
   "source": [
    "# Project Timeline Proposal"
   ]
  },
  {
   "cell_type": "markdown",
   "metadata": {},
   "source": [
    "| Meeting Date  | Meeting Time| Completed Before Meeting  | Discuss at Meeting |\n",
    "|---|---|---|---|\n",
    "| 1/26  |  9 PM | Read & Think about COGS 108 expectations; brainstorm topics/questions  | Determine best form of communication; Discuss and decide on final project topic; discuss hypothesis; begin background research | \n",
    "| 1/29  |  10 AM |  Draft Proposal, Search for datasets | finalize and submit proposal | \n",
    "| 2/2  | 8 PM  | Search for datasets  | Finalize datasets and discuss wrangling of data and assign each member to specific parts   |\n",
    "| 2/10  | 8 PM  | Import & Wrangle Data; EDA | Review/Edit wrangling/EDA; Discuss Analysis Plan   |\n",
    "| 2/17  | 8 PM  | Finalize wrangling/EDA; Begin Analysis  | Discuss/edit Analysis; Complete project check-in |\n",
    "| 2/24  | 8 PM  | Complete analysis; Draft results/conclusion/discussion| Discuss analysis, edit EDA, submit checkpoint #2 |\n",
    "| 3/2  | Before 11:59 PM  | Double Check the project | Check all the details of the project and finalizing any minor mistakes or imcompletness and be ready to turn in the final project\n",
    " |"
   ]
  },
  {
   "cell_type": "code",
   "execution_count": null,
   "metadata": {},
   "outputs": [],
   "source": []
  }
 ],
 "metadata": {
  "kernelspec": {
   "display_name": "Python 3",
   "language": "python",
   "name": "python3"
  },
  "language_info": {
   "codemirror_mode": {
    "name": "ipython",
    "version": 3
   },
   "file_extension": ".py",
   "mimetype": "text/x-python",
   "name": "python",
   "nbconvert_exporter": "python",
   "pygments_lexer": "ipython3",
   "version": "3.8.5"
  }
 },
 "nbformat": 4,
 "nbformat_minor": 2
}
