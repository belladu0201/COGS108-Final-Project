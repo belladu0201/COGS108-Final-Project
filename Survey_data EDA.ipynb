{
 "cells": [
  {
   "cell_type": "markdown",
   "metadata": {},
   "source": [
    "# Set Up"
   ]
  },
  {
   "cell_type": "code",
   "execution_count": 1,
   "metadata": {},
   "outputs": [],
   "source": [
    "import pandas as pd\n",
    "import numpy as np\n",
    "import matplotlib.pyplot as plt\n",
    "import seaborn as sns\n",
    "%config InlineBackend.figure_format ='retina'"
   ]
  },
  {
   "cell_type": "code",
   "execution_count": 2,
   "metadata": {},
   "outputs": [
    {
     "data": {
      "text/html": [
       "<div>\n",
       "<style scoped>\n",
       "    .dataframe tbody tr th:only-of-type {\n",
       "        vertical-align: middle;\n",
       "    }\n",
       "\n",
       "    .dataframe tbody tr th {\n",
       "        vertical-align: top;\n",
       "    }\n",
       "\n",
       "    .dataframe thead th {\n",
       "        text-align: right;\n",
       "    }\n",
       "</style>\n",
       "<table border=\"1\" class=\"dataframe\">\n",
       "  <thead>\n",
       "    <tr style=\"text-align: right;\">\n",
       "      <th></th>\n",
       "      <th>Timestamp</th>\n",
       "      <th>Do you acknowledge the agreement above</th>\n",
       "      <th>Are you an undergrad student at UC San Diego</th>\n",
       "      <th>How many academic quarters have you studied at UCSD? (Summer sessions and WI21 excluded)</th>\n",
       "      <th>What is your average study time during the pandemic for each class per week (numbers in hours)?</th>\n",
       "      <th>What is your average study time before the pandemic for each class per week (numbers in hours)? FA19 and WI20 data will be preferred. Please put N/A if enter after FA20.</th>\n",
       "      <th>Do you think remote learning makes you spend more time on studying?</th>\n",
       "      <th>How do you rank your overall remote learning experience after pandemic (since SP20)?</th>\n",
       "      <th>How do you think the online learning affect your academic performance?</th>\n",
       "      <th>What was your average GPA before the pandemic? Please put N/A if enter after FA20.</th>\n",
       "      <th>What is you average GPA during the pandemic?</th>\n",
       "      <th>What is your expected GPA in WI21?</th>\n",
       "    </tr>\n",
       "  </thead>\n",
       "  <tbody>\n",
       "    <tr>\n",
       "      <th>0</th>\n",
       "      <td>2/10/2021 20:56:57</td>\n",
       "      <td>Yes</td>\n",
       "      <td>YES</td>\n",
       "      <td>4</td>\n",
       "      <td>7</td>\n",
       "      <td>4</td>\n",
       "      <td>4</td>\n",
       "      <td>3</td>\n",
       "      <td>4</td>\n",
       "      <td>4</td>\n",
       "      <td>3.900</td>\n",
       "      <td>4</td>\n",
       "    </tr>\n",
       "    <tr>\n",
       "      <th>1</th>\n",
       "      <td>2/10/2021 20:57:26</td>\n",
       "      <td>Yes</td>\n",
       "      <td>YES</td>\n",
       "      <td>1</td>\n",
       "      <td>7</td>\n",
       "      <td>NaN</td>\n",
       "      <td>3</td>\n",
       "      <td>4</td>\n",
       "      <td>4</td>\n",
       "      <td>NaN</td>\n",
       "      <td>4.000</td>\n",
       "      <td>4</td>\n",
       "    </tr>\n",
       "    <tr>\n",
       "      <th>2</th>\n",
       "      <td>2/10/2021 20:58:57</td>\n",
       "      <td>Yes</td>\n",
       "      <td>YES</td>\n",
       "      <td>8</td>\n",
       "      <td>6</td>\n",
       "      <td>8</td>\n",
       "      <td>1</td>\n",
       "      <td>3</td>\n",
       "      <td>2</td>\n",
       "      <td>3.8</td>\n",
       "      <td>3.900</td>\n",
       "      <td>3.92</td>\n",
       "    </tr>\n",
       "    <tr>\n",
       "      <th>3</th>\n",
       "      <td>2/10/2021 21:04:38</td>\n",
       "      <td>Yes</td>\n",
       "      <td>NO</td>\n",
       "      <td>12</td>\n",
       "      <td>5</td>\n",
       "      <td>12</td>\n",
       "      <td>3</td>\n",
       "      <td>2</td>\n",
       "      <td>2</td>\n",
       "      <td>2.5</td>\n",
       "      <td>2.000</td>\n",
       "      <td>0</td>\n",
       "    </tr>\n",
       "    <tr>\n",
       "      <th>4</th>\n",
       "      <td>2/10/2021 21:08:05</td>\n",
       "      <td>Yes</td>\n",
       "      <td>YES</td>\n",
       "      <td>1</td>\n",
       "      <td>18</td>\n",
       "      <td>NaN</td>\n",
       "      <td>2</td>\n",
       "      <td>4</td>\n",
       "      <td>4</td>\n",
       "      <td>NaN</td>\n",
       "      <td>3.466</td>\n",
       "      <td>3.8</td>\n",
       "    </tr>\n",
       "  </tbody>\n",
       "</table>\n",
       "</div>"
      ],
      "text/plain": [
       "            Timestamp Do you acknowledge the agreement above  \\\n",
       "0  2/10/2021 20:56:57                                    Yes   \n",
       "1  2/10/2021 20:57:26                                    Yes   \n",
       "2  2/10/2021 20:58:57                                    Yes   \n",
       "3  2/10/2021 21:04:38                                    Yes   \n",
       "4  2/10/2021 21:08:05                                    Yes   \n",
       "\n",
       "  Are you an undergrad student at UC San Diego  \\\n",
       "0                                          YES   \n",
       "1                                          YES   \n",
       "2                                          YES   \n",
       "3                                           NO   \n",
       "4                                          YES   \n",
       "\n",
       "  How many academic quarters have you studied at UCSD? (Summer sessions and WI21 excluded)  \\\n",
       "0                                                  4                                         \n",
       "1                                                  1                                         \n",
       "2                                                  8                                         \n",
       "3                                                 12                                         \n",
       "4                                                  1                                         \n",
       "\n",
       "  What is your average study time during the pandemic for each class per week (numbers in hours)?  \\\n",
       "0                                                  7                                                \n",
       "1                                                  7                                                \n",
       "2                                                  6                                                \n",
       "3                                                  5                                                \n",
       "4                                                 18                                                \n",
       "\n",
       "  What is your average study time before the pandemic for each class per week (numbers in hours)? FA19 and WI20 data will be preferred. Please put N/A if enter after FA20.  \\\n",
       "0                                                  4                                                                                                                          \n",
       "1                                                NaN                                                                                                                          \n",
       "2                                                  8                                                                                                                          \n",
       "3                                                 12                                                                                                                          \n",
       "4                                                NaN                                                                                                                          \n",
       "\n",
       "   Do you think remote learning makes you spend more time on studying?  \\\n",
       "0                                                  4                     \n",
       "1                                                  3                     \n",
       "2                                                  1                     \n",
       "3                                                  3                     \n",
       "4                                                  2                     \n",
       "\n",
       "   How do you rank your overall remote learning experience after pandemic (since SP20)?  \\\n",
       "0                                                  3                                      \n",
       "1                                                  4                                      \n",
       "2                                                  3                                      \n",
       "3                                                  2                                      \n",
       "4                                                  4                                      \n",
       "\n",
       "   How do you think the online learning affect your academic performance?  \\\n",
       "0                                                  4                        \n",
       "1                                                  4                        \n",
       "2                                                  2                        \n",
       "3                                                  2                        \n",
       "4                                                  4                        \n",
       "\n",
       "  What was your average GPA before the pandemic? Please put N/A if enter after FA20.  \\\n",
       "0                                                  4                                   \n",
       "1                                                NaN                                   \n",
       "2                                                3.8                                   \n",
       "3                                                2.5                                   \n",
       "4                                                NaN                                   \n",
       "\n",
       "   What is you average GPA during the pandemic?  \\\n",
       "0                                         3.900   \n",
       "1                                         4.000   \n",
       "2                                         3.900   \n",
       "3                                         2.000   \n",
       "4                                         3.466   \n",
       "\n",
       "  What is your expected GPA in WI21?  \n",
       "0                                  4  \n",
       "1                                  4  \n",
       "2                               3.92  \n",
       "3                                  0  \n",
       "4                                3.8  "
      ]
     },
     "execution_count": 2,
     "metadata": {},
     "output_type": "execute_result"
    }
   ],
   "source": [
    "survey = pd.read_csv(\"COGS 108 UCSD e-learning survey 02-23.csv\")\n",
    "survey.head()"
   ]
  },
  {
   "cell_type": "code",
   "execution_count": 3,
   "metadata": {},
   "outputs": [
    {
     "data": {
      "text/plain": [
       "(45, 12)"
      ]
     },
     "execution_count": 3,
     "metadata": {},
     "output_type": "execute_result"
    }
   ],
   "source": [
    "survey.shape\n"
   ]
  },
  {
   "cell_type": "code",
   "execution_count": 4,
   "metadata": {},
   "outputs": [
    {
     "data": {
      "text/plain": [
       "Timestamp                                                                                                                                                                     object\n",
       "Do you acknowledge the agreement above                                                                                                                                        object\n",
       "Are you an undergrad student at UC San Diego                                                                                                                                  object\n",
       "How many academic quarters have you studied at UCSD? (Summer sessions and WI21 excluded)                                                                                      object\n",
       "What is your average study time during the pandemic for each class per week (numbers in hours)?                                                                               object\n",
       "What is your average study time before the pandemic for each class per week (numbers in hours)? FA19 and WI20 data will be preferred. Please put N/A if enter after FA20.     object\n",
       "Do you think remote learning makes you spend more time on studying?                                                                                                            int64\n",
       "How do you rank your overall remote learning experience after pandemic (since SP20)?                                                                                           int64\n",
       "How do you think the online learning affect your academic performance?                                                                                                         int64\n",
       "What was your average GPA before the pandemic? Please put N/A if enter after FA20.                                                                                            object\n",
       "What is you average GPA during the pandemic?                                                                                                                                 float64\n",
       "What is your expected GPA in WI21?                                                                                                                                            object\n",
       "dtype: object"
      ]
     },
     "execution_count": 4,
     "metadata": {},
     "output_type": "execute_result"
    }
   ],
   "source": [
    "survey.dtypes"
   ]
  },
  {
   "cell_type": "markdown",
   "metadata": {},
   "source": [
    "# Data Cleaning"
   ]
  },
  {
   "cell_type": "markdown",
   "metadata": {},
   "source": [
    "First, we will clean the dataset by changing the columns names and remove the timestamp column"
   ]
  },
  {
   "cell_type": "code",
   "execution_count": 5,
   "metadata": {},
   "outputs": [],
   "source": [
    "survey = survey.drop(survey.columns[0], axis = 1)"
   ]
  },
  {
   "cell_type": "code",
   "execution_count": 6,
   "metadata": {},
   "outputs": [],
   "source": [
    "survey.columns = ['agreement','undergrad','quarters',\n",
    "    'studytime_during','studytime_before', 'studytime_rating',\n",
    "    'experience_rating', 'performance_rating','gpa_before',\n",
    "    'gpa_during', 'expected_gpa']"
   ]
  },
  {
   "cell_type": "markdown",
   "metadata": {},
   "source": [
    "Then we will have to remove any observations that answered NO to the agreement and who are not an undergraduate UCSD students because it is out of the scope of our research."
   ]
  },
  {
   "cell_type": "code",
   "execution_count": 8,
   "metadata": {},
   "outputs": [],
   "source": [
    "survey = survey[(survey['agreement'] == 'Yes')&(survey['undergrad'] == 'YES')].reset_index()"
   ]
  },
  {
   "cell_type": "markdown",
   "metadata": {},
   "source": [
    "Check if all observations answered no to first two questions are removed"
   ]
  },
  {
   "cell_type": "code",
   "execution_count": 9,
   "metadata": {},
   "outputs": [
    {
     "name": "stdout",
     "output_type": "stream",
     "text": [
      "['Yes']\n",
      "['YES']\n"
     ]
    }
   ],
   "source": [
    "print(survey['agreement'].unique())\n",
    "print(survey['undergrad'].unique())"
   ]
  },
  {
   "cell_type": "markdown",
   "metadata": {},
   "source": [
    "## Sub datasets for ratings, study time and gpa"
   ]
  },
  {
   "cell_type": "markdown",
   "metadata": {},
   "source": [
    "There are three questions asking about students rating on remote leanring, all three are answered in a scale from 1 to 5. We will have a separate dataset for these three questions.\n",
    "Also, in the survey, we asked questions on both study time and students' gpa. To avoid confusion and for better analyzing the data, we will separate these into two data sets.\n",
    "By previewing the datasets, we found there were students who did not provide answers to certain questions, but other questions were answered. We are separating the datasets so that when we are removing null values, we are keep the answers to other questions provided by the student."
   ]
  },
  {
   "cell_type": "markdown",
   "metadata": {},
   "source": [
    "### Dataset for students' ratings on remote learning"
   ]
  },
  {
   "cell_type": "code",
   "execution_count": 10,
   "metadata": {},
   "outputs": [],
   "source": [
    "rating_df = survey[['studytime_rating', 'performance_rating', 'experience_rating']]"
   ]
  },
  {
   "cell_type": "code",
   "execution_count": 11,
   "metadata": {},
   "outputs": [
    {
     "data": {
      "text/html": [
       "<div>\n",
       "<style scoped>\n",
       "    .dataframe tbody tr th:only-of-type {\n",
       "        vertical-align: middle;\n",
       "    }\n",
       "\n",
       "    .dataframe tbody tr th {\n",
       "        vertical-align: top;\n",
       "    }\n",
       "\n",
       "    .dataframe thead th {\n",
       "        text-align: right;\n",
       "    }\n",
       "</style>\n",
       "<table border=\"1\" class=\"dataframe\">\n",
       "  <thead>\n",
       "    <tr style=\"text-align: right;\">\n",
       "      <th></th>\n",
       "      <th>studytime_rating</th>\n",
       "      <th>performance_rating</th>\n",
       "      <th>experience_rating</th>\n",
       "    </tr>\n",
       "  </thead>\n",
       "  <tbody>\n",
       "    <tr>\n",
       "      <th>0</th>\n",
       "      <td>4</td>\n",
       "      <td>4</td>\n",
       "      <td>3</td>\n",
       "    </tr>\n",
       "    <tr>\n",
       "      <th>1</th>\n",
       "      <td>3</td>\n",
       "      <td>4</td>\n",
       "      <td>4</td>\n",
       "    </tr>\n",
       "    <tr>\n",
       "      <th>2</th>\n",
       "      <td>1</td>\n",
       "      <td>2</td>\n",
       "      <td>3</td>\n",
       "    </tr>\n",
       "    <tr>\n",
       "      <th>3</th>\n",
       "      <td>2</td>\n",
       "      <td>4</td>\n",
       "      <td>4</td>\n",
       "    </tr>\n",
       "    <tr>\n",
       "      <th>4</th>\n",
       "      <td>4</td>\n",
       "      <td>2</td>\n",
       "      <td>2</td>\n",
       "    </tr>\n",
       "  </tbody>\n",
       "</table>\n",
       "</div>"
      ],
      "text/plain": [
       "   studytime_rating  performance_rating  experience_rating\n",
       "0                 4                   4                  3\n",
       "1                 3                   4                  4\n",
       "2                 1                   2                  3\n",
       "3                 2                   4                  4\n",
       "4                 4                   2                  2"
      ]
     },
     "execution_count": 11,
     "metadata": {},
     "output_type": "execute_result"
    }
   ],
   "source": [
    "rating_df = rating_df.apply(pd.to_numeric)\n",
    "rating_df.head()"
   ]
  },
  {
   "cell_type": "markdown",
   "metadata": {},
   "source": [
    "### Dataset for students' study hours before and during remote learning"
   ]
  },
  {
   "cell_type": "code",
   "execution_count": 12,
   "metadata": {},
   "outputs": [
    {
     "data": {
      "text/html": [
       "<div>\n",
       "<style scoped>\n",
       "    .dataframe tbody tr th:only-of-type {\n",
       "        vertical-align: middle;\n",
       "    }\n",
       "\n",
       "    .dataframe tbody tr th {\n",
       "        vertical-align: top;\n",
       "    }\n",
       "\n",
       "    .dataframe thead th {\n",
       "        text-align: right;\n",
       "    }\n",
       "</style>\n",
       "<table border=\"1\" class=\"dataframe\">\n",
       "  <thead>\n",
       "    <tr style=\"text-align: right;\">\n",
       "      <th></th>\n",
       "      <th>studytime_before</th>\n",
       "      <th>studytime_during</th>\n",
       "    </tr>\n",
       "  </thead>\n",
       "  <tbody>\n",
       "    <tr>\n",
       "      <th>0</th>\n",
       "      <td>4</td>\n",
       "      <td>7</td>\n",
       "    </tr>\n",
       "    <tr>\n",
       "      <th>1</th>\n",
       "      <td>NaN</td>\n",
       "      <td>7</td>\n",
       "    </tr>\n",
       "    <tr>\n",
       "      <th>2</th>\n",
       "      <td>8</td>\n",
       "      <td>6</td>\n",
       "    </tr>\n",
       "    <tr>\n",
       "      <th>3</th>\n",
       "      <td>NaN</td>\n",
       "      <td>18</td>\n",
       "    </tr>\n",
       "    <tr>\n",
       "      <th>4</th>\n",
       "      <td>NaN</td>\n",
       "      <td>8</td>\n",
       "    </tr>\n",
       "    <tr>\n",
       "      <th>5</th>\n",
       "      <td>1</td>\n",
       "      <td>1</td>\n",
       "    </tr>\n",
       "    <tr>\n",
       "      <th>6</th>\n",
       "      <td>NaN</td>\n",
       "      <td>12hrs</td>\n",
       "    </tr>\n",
       "    <tr>\n",
       "      <th>7</th>\n",
       "      <td>NaN</td>\n",
       "      <td>3-4</td>\n",
       "    </tr>\n",
       "    <tr>\n",
       "      <th>8</th>\n",
       "      <td>NaN</td>\n",
       "      <td>6</td>\n",
       "    </tr>\n",
       "    <tr>\n",
       "      <th>9</th>\n",
       "      <td>8</td>\n",
       "      <td>7</td>\n",
       "    </tr>\n",
       "    <tr>\n",
       "      <th>10</th>\n",
       "      <td>3</td>\n",
       "      <td>4</td>\n",
       "    </tr>\n",
       "    <tr>\n",
       "      <th>11</th>\n",
       "      <td>6</td>\n",
       "      <td>8</td>\n",
       "    </tr>\n",
       "    <tr>\n",
       "      <th>12</th>\n",
       "      <td>4</td>\n",
       "      <td>2.5</td>\n",
       "    </tr>\n",
       "    <tr>\n",
       "      <th>13</th>\n",
       "      <td>8</td>\n",
       "      <td>10</td>\n",
       "    </tr>\n",
       "    <tr>\n",
       "      <th>14</th>\n",
       "      <td>6</td>\n",
       "      <td>10</td>\n",
       "    </tr>\n",
       "    <tr>\n",
       "      <th>15</th>\n",
       "      <td>30</td>\n",
       "      <td>40</td>\n",
       "    </tr>\n",
       "    <tr>\n",
       "      <th>16</th>\n",
       "      <td>4-6</td>\n",
       "      <td>3-5</td>\n",
       "    </tr>\n",
       "    <tr>\n",
       "      <th>17</th>\n",
       "      <td>1</td>\n",
       "      <td>2</td>\n",
       "    </tr>\n",
       "    <tr>\n",
       "      <th>18</th>\n",
       "      <td>20</td>\n",
       "      <td>20</td>\n",
       "    </tr>\n",
       "    <tr>\n",
       "      <th>19</th>\n",
       "      <td>7</td>\n",
       "      <td>10</td>\n",
       "    </tr>\n",
       "    <tr>\n",
       "      <th>20</th>\n",
       "      <td>7</td>\n",
       "      <td>6.5</td>\n",
       "    </tr>\n",
       "    <tr>\n",
       "      <th>21</th>\n",
       "      <td>6</td>\n",
       "      <td>7</td>\n",
       "    </tr>\n",
       "    <tr>\n",
       "      <th>22</th>\n",
       "      <td>10-12</td>\n",
       "      <td>6-8</td>\n",
       "    </tr>\n",
       "    <tr>\n",
       "      <th>23</th>\n",
       "      <td>4</td>\n",
       "      <td>6</td>\n",
       "    </tr>\n",
       "    <tr>\n",
       "      <th>24</th>\n",
       "      <td>6</td>\n",
       "      <td>10</td>\n",
       "    </tr>\n",
       "    <tr>\n",
       "      <th>25</th>\n",
       "      <td>20</td>\n",
       "      <td>30</td>\n",
       "    </tr>\n",
       "    <tr>\n",
       "      <th>26</th>\n",
       "      <td>30</td>\n",
       "      <td>20 hours</td>\n",
       "    </tr>\n",
       "    <tr>\n",
       "      <th>27</th>\n",
       "      <td>NaN</td>\n",
       "      <td>8</td>\n",
       "    </tr>\n",
       "    <tr>\n",
       "      <th>28</th>\n",
       "      <td>30</td>\n",
       "      <td>40</td>\n",
       "    </tr>\n",
       "    <tr>\n",
       "      <th>29</th>\n",
       "      <td>NaN</td>\n",
       "      <td>30</td>\n",
       "    </tr>\n",
       "    <tr>\n",
       "      <th>30</th>\n",
       "      <td>NaN</td>\n",
       "      <td>5</td>\n",
       "    </tr>\n",
       "    <tr>\n",
       "      <th>31</th>\n",
       "      <td>NaN</td>\n",
       "      <td>5.5</td>\n",
       "    </tr>\n",
       "    <tr>\n",
       "      <th>32</th>\n",
       "      <td>8</td>\n",
       "      <td>10</td>\n",
       "    </tr>\n",
       "    <tr>\n",
       "      <th>33</th>\n",
       "      <td>12</td>\n",
       "      <td>10</td>\n",
       "    </tr>\n",
       "    <tr>\n",
       "      <th>34</th>\n",
       "      <td>35</td>\n",
       "      <td>35</td>\n",
       "    </tr>\n",
       "    <tr>\n",
       "      <th>35</th>\n",
       "      <td>10</td>\n",
       "      <td>3</td>\n",
       "    </tr>\n",
       "    <tr>\n",
       "      <th>36</th>\n",
       "      <td>7</td>\n",
       "      <td>6.5</td>\n",
       "    </tr>\n",
       "    <tr>\n",
       "      <th>37</th>\n",
       "      <td>NaN</td>\n",
       "      <td>8</td>\n",
       "    </tr>\n",
       "    <tr>\n",
       "      <th>38</th>\n",
       "      <td>NaN</td>\n",
       "      <td>5</td>\n",
       "    </tr>\n",
       "    <tr>\n",
       "      <th>39</th>\n",
       "      <td>60</td>\n",
       "      <td>80</td>\n",
       "    </tr>\n",
       "    <tr>\n",
       "      <th>40</th>\n",
       "      <td>2</td>\n",
       "      <td>4</td>\n",
       "    </tr>\n",
       "    <tr>\n",
       "      <th>41</th>\n",
       "      <td>NaN</td>\n",
       "      <td>7</td>\n",
       "    </tr>\n",
       "    <tr>\n",
       "      <th>42</th>\n",
       "      <td>NaN</td>\n",
       "      <td>20</td>\n",
       "    </tr>\n",
       "  </tbody>\n",
       "</table>\n",
       "</div>"
      ],
      "text/plain": [
       "   studytime_before studytime_during\n",
       "0                 4                7\n",
       "1               NaN                7\n",
       "2                 8                6\n",
       "3               NaN               18\n",
       "4               NaN                8\n",
       "5                 1                1\n",
       "6               NaN            12hrs\n",
       "7               NaN              3-4\n",
       "8               NaN                6\n",
       "9                 8                7\n",
       "10                3                4\n",
       "11                6                8\n",
       "12                4              2.5\n",
       "13                8               10\n",
       "14                6               10\n",
       "15               30               40\n",
       "16              4-6              3-5\n",
       "17                1                2\n",
       "18               20               20\n",
       "19                7               10\n",
       "20                7              6.5\n",
       "21                6                7\n",
       "22            10-12              6-8\n",
       "23                4                6\n",
       "24                6               10\n",
       "25               20               30\n",
       "26               30         20 hours\n",
       "27              NaN                8\n",
       "28               30               40\n",
       "29              NaN               30\n",
       "30              NaN                5\n",
       "31              NaN              5.5\n",
       "32                8               10\n",
       "33               12               10\n",
       "34               35               35\n",
       "35               10                3\n",
       "36                7              6.5\n",
       "37              NaN                8\n",
       "38              NaN                5\n",
       "39               60               80\n",
       "40                2                4\n",
       "41              NaN                7\n",
       "42              NaN               20"
      ]
     },
     "execution_count": 12,
     "metadata": {},
     "output_type": "execute_result"
    }
   ],
   "source": [
    "studytime_df = survey[['studytime_before' ,'studytime_during']]\n",
    "studytime_df"
   ]
  },
  {
   "cell_type": "markdown",
   "metadata": {},
   "source": [
    "In order to measure the difference of study hours before and during the pandemic, we need data on both studytime_before and studytime_during. Null values are make it difficult to compare the differences and we will remove the null values."
   ]
  },
  {
   "cell_type": "code",
   "execution_count": 13,
   "metadata": {},
   "outputs": [],
   "source": [
    "studytime_df = studytime_df.dropna()"
   ]
  },
  {
   "cell_type": "code",
   "execution_count": 14,
   "metadata": {},
   "outputs": [
    {
     "name": "stdout",
     "output_type": "stream",
     "text": [
      "['7' '6' '1' '4' '8' '2.5' '10' '40' '3-5' '2' '20' '6.5' '6-8' '30'\n",
      " '20 hours' '35' '3' '80']\n",
      "['4' '8' '1' '3' '6' '30' '4-6' '20' '7' '10-12' '12' '35' '10' '60' '2']\n"
     ]
    }
   ],
   "source": [
    "print(studytime_df['studytime_during'].unique())\n",
    "print(studytime_df['studytime_before'].unique())"
   ]
  },
  {
   "cell_type": "markdown",
   "metadata": {},
   "source": [
    "When previewing the data, we found that some data contains units such as \\\"hours, hour\\\", we need to git rid of the units and compare only the numeric values."
   ]
  },
  {
   "cell_type": "code",
   "execution_count": 15,
   "metadata": {},
   "outputs": [
    {
     "name": "stderr",
     "output_type": "stream",
     "text": [
      "<ipython-input-15-ca33b5f0d368>:12: SettingWithCopyWarning: \n",
      "A value is trying to be set on a copy of a slice from a DataFrame.\n",
      "Try using .loc[row_indexer,col_indexer] = value instead\n",
      "\n",
      "See the caveats in the documentation: https://pandas.pydata.org/pandas-docs/stable/user_guide/indexing.html#returning-a-view-versus-a-copy\n",
      "  studytime_df['studytime_during'] = studytime_df['studytime_during'].apply(removeunit)\n",
      "<ipython-input-15-ca33b5f0d368>:13: SettingWithCopyWarning: \n",
      "A value is trying to be set on a copy of a slice from a DataFrame.\n",
      "Try using .loc[row_indexer,col_indexer] = value instead\n",
      "\n",
      "See the caveats in the documentation: https://pandas.pydata.org/pandas-docs/stable/user_guide/indexing.html#returning-a-view-versus-a-copy\n",
      "  studytime_df['studytime_before'] = studytime_df['studytime_before'].apply(removeunit)\n",
      "<ipython-input-15-ca33b5f0d368>:16: SettingWithCopyWarning: \n",
      "A value is trying to be set on a copy of a slice from a DataFrame.\n",
      "Try using .loc[row_indexer,col_indexer] = value instead\n",
      "\n",
      "See the caveats in the documentation: https://pandas.pydata.org/pandas-docs/stable/user_guide/indexing.html#returning-a-view-versus-a-copy\n",
      "  studytime_df['studytime_during'] = studyhour_before.str.rstrip(' hours hour')\n"
     ]
    },
    {
     "data": {
      "text/html": [
       "<div>\n",
       "<style scoped>\n",
       "    .dataframe tbody tr th:only-of-type {\n",
       "        vertical-align: middle;\n",
       "    }\n",
       "\n",
       "    .dataframe tbody tr th {\n",
       "        vertical-align: top;\n",
       "    }\n",
       "\n",
       "    .dataframe thead th {\n",
       "        text-align: right;\n",
       "    }\n",
       "</style>\n",
       "<table border=\"1\" class=\"dataframe\">\n",
       "  <thead>\n",
       "    <tr style=\"text-align: right;\">\n",
       "      <th></th>\n",
       "      <th>studytime_before</th>\n",
       "      <th>studytime_during</th>\n",
       "    </tr>\n",
       "  </thead>\n",
       "  <tbody>\n",
       "    <tr>\n",
       "      <th>0</th>\n",
       "      <td>4</td>\n",
       "      <td>7</td>\n",
       "    </tr>\n",
       "    <tr>\n",
       "      <th>2</th>\n",
       "      <td>8</td>\n",
       "      <td>6</td>\n",
       "    </tr>\n",
       "    <tr>\n",
       "      <th>5</th>\n",
       "      <td>1</td>\n",
       "      <td>1</td>\n",
       "    </tr>\n",
       "    <tr>\n",
       "      <th>9</th>\n",
       "      <td>8</td>\n",
       "      <td>7</td>\n",
       "    </tr>\n",
       "    <tr>\n",
       "      <th>10</th>\n",
       "      <td>3</td>\n",
       "      <td>4</td>\n",
       "    </tr>\n",
       "  </tbody>\n",
       "</table>\n",
       "</div>"
      ],
      "text/plain": [
       "   studytime_before studytime_during\n",
       "0                 4                7\n",
       "2                 8                6\n",
       "5                 1                1\n",
       "9                 8                7\n",
       "10                3                4"
      ]
     },
     "execution_count": 15,
     "metadata": {},
     "output_type": "execute_result"
    }
   ],
   "source": [
    "def removeunit(string):\n",
    "    string = string.lower()\n",
    "    string = string.strip()\n",
    "    \n",
    "    string = string.replace('hours', '') \n",
    "    string = string.replace('hour', '')\n",
    "    string = string.replace('hrs', '')\n",
    "        \n",
    "    string = string.strip()\n",
    "    return string\n",
    "\n",
    "studytime_df['studytime_during'] = studytime_df['studytime_during'].apply(removeunit)\n",
    "studytime_df['studytime_before'] = studytime_df['studytime_before'].apply(removeunit)\n",
    "studytime_df\n",
    "studyhour_before = studytime_df['studytime_during']\n",
    "studytime_df['studytime_during'] = studyhour_before.str.rstrip(' hours hour')\n",
    "studytime_df.head()"
   ]
  },
  {
   "cell_type": "markdown",
   "metadata": {},
   "source": [
    "Also, we've noticed that some students provided a range of hours instead of a number. For the purpose of analyzing, we will take the average values and use these instead."
   ]
  },
  {
   "cell_type": "code",
   "execution_count": 17,
   "metadata": {},
   "outputs": [
    {
     "name": "stderr",
     "output_type": "stream",
     "text": [
      "<ipython-input-17-004ba621beba>:5: SettingWithCopyWarning: \n",
      "A value is trying to be set on a copy of a slice from a DataFrame.\n",
      "Try using .loc[row_indexer,col_indexer] = value instead\n",
      "\n",
      "See the caveats in the documentation: https://pandas.pydata.org/pandas-docs/stable/user_guide/indexing.html#returning-a-view-versus-a-copy\n",
      "  studytime_df['studytime_during'] = new_time_during\n"
     ]
    }
   ],
   "source": [
    "time1 = studytime_df['studytime_during'].apply(lambda studytime_during: str(studytime_during).split('-')[0])\n",
    "time2 = studytime_df['studytime_during'].apply(lambda studytime_during: str(studytime_during).split('-')[-1])\n",
    "new_time_during = (time1.astype(float) + time2.astype(float))/ 2\n",
    "\n",
    "new_time_during\n",
    "studytime_df['studytime_during'] = new_time_during"
   ]
  },
  {
   "cell_type": "code",
   "execution_count": 18,
   "metadata": {},
   "outputs": [
    {
     "name": "stderr",
     "output_type": "stream",
     "text": [
      "<ipython-input-18-6396e9f12fad>:6: SettingWithCopyWarning: \n",
      "A value is trying to be set on a copy of a slice from a DataFrame.\n",
      "Try using .loc[row_indexer,col_indexer] = value instead\n",
      "\n",
      "See the caveats in the documentation: https://pandas.pydata.org/pandas-docs/stable/user_guide/indexing.html#returning-a-view-versus-a-copy\n",
      "  studytime_df['studytime_before'] = new_time_before\n"
     ]
    },
    {
     "data": {
      "text/html": [
       "<div>\n",
       "<style scoped>\n",
       "    .dataframe tbody tr th:only-of-type {\n",
       "        vertical-align: middle;\n",
       "    }\n",
       "\n",
       "    .dataframe tbody tr th {\n",
       "        vertical-align: top;\n",
       "    }\n",
       "\n",
       "    .dataframe thead th {\n",
       "        text-align: right;\n",
       "    }\n",
       "</style>\n",
       "<table border=\"1\" class=\"dataframe\">\n",
       "  <thead>\n",
       "    <tr style=\"text-align: right;\">\n",
       "      <th></th>\n",
       "      <th>studytime_before</th>\n",
       "      <th>studytime_during</th>\n",
       "    </tr>\n",
       "  </thead>\n",
       "  <tbody>\n",
       "    <tr>\n",
       "      <th>0</th>\n",
       "      <td>4.0</td>\n",
       "      <td>7.0</td>\n",
       "    </tr>\n",
       "    <tr>\n",
       "      <th>2</th>\n",
       "      <td>8.0</td>\n",
       "      <td>6.0</td>\n",
       "    </tr>\n",
       "    <tr>\n",
       "      <th>5</th>\n",
       "      <td>1.0</td>\n",
       "      <td>1.0</td>\n",
       "    </tr>\n",
       "    <tr>\n",
       "      <th>9</th>\n",
       "      <td>8.0</td>\n",
       "      <td>7.0</td>\n",
       "    </tr>\n",
       "    <tr>\n",
       "      <th>10</th>\n",
       "      <td>3.0</td>\n",
       "      <td>4.0</td>\n",
       "    </tr>\n",
       "  </tbody>\n",
       "</table>\n",
       "</div>"
      ],
      "text/plain": [
       "    studytime_before  studytime_during\n",
       "0                4.0               7.0\n",
       "2                8.0               6.0\n",
       "5                1.0               1.0\n",
       "9                8.0               7.0\n",
       "10               3.0               4.0"
      ]
     },
     "execution_count": 18,
     "metadata": {},
     "output_type": "execute_result"
    }
   ],
   "source": [
    "time1 = studytime_df['studytime_before'].apply(lambda studytime_before: str(studytime_before).split('-')[0])\n",
    "time2 = studytime_df['studytime_before'].apply(lambda studytime_before: str(studytime_before).split('-')[-1])\n",
    "new_time_before = (time1.astype(float) + time2.astype(float))/ 2\n",
    "new_time_before\n",
    "\n",
    "studytime_df['studytime_before'] = new_time_before\n",
    "studytime_df.head()"
   ]
  },
  {
   "cell_type": "code",
   "execution_count": 19,
   "metadata": {},
   "outputs": [
    {
     "data": {
      "text/plain": [
       "studytime_before    float64\n",
       "studytime_during    float64\n",
       "dtype: object"
      ]
     },
     "execution_count": 19,
     "metadata": {},
     "output_type": "execute_result"
    }
   ],
   "source": [
    "studytime_df.reset_index()\n",
    "studytime_df.dtypes"
   ]
  },
  {
   "cell_type": "markdown",
   "metadata": {},
   "source": [
    "### Dataset for students' GPA before and during remote learning"
   ]
  },
  {
   "cell_type": "markdown",
   "metadata": {},
   "source": [
    "Next, we will create a separate dataframe for comparing GPAs before and during the pandemic."
   ]
  },
  {
   "cell_type": "code",
   "execution_count": 20,
   "metadata": {},
   "outputs": [],
   "source": [
    "GPA_df = survey[['gpa_before','gpa_during']]"
   ]
  },
  {
   "cell_type": "markdown",
   "metadata": {},
   "source": [
    "To compare, we will need to have data of GPA both before and during the pandemic, to do so, we will remove all the null values as they do not contribute to our questions here."
   ]
  },
  {
   "cell_type": "code",
   "execution_count": 21,
   "metadata": {},
   "outputs": [
    {
     "data": {
      "text/html": [
       "<div>\n",
       "<style scoped>\n",
       "    .dataframe tbody tr th:only-of-type {\n",
       "        vertical-align: middle;\n",
       "    }\n",
       "\n",
       "    .dataframe tbody tr th {\n",
       "        vertical-align: top;\n",
       "    }\n",
       "\n",
       "    .dataframe thead th {\n",
       "        text-align: right;\n",
       "    }\n",
       "</style>\n",
       "<table border=\"1\" class=\"dataframe\">\n",
       "  <thead>\n",
       "    <tr style=\"text-align: right;\">\n",
       "      <th></th>\n",
       "      <th>gpa_before</th>\n",
       "      <th>gpa_during</th>\n",
       "    </tr>\n",
       "  </thead>\n",
       "  <tbody>\n",
       "    <tr>\n",
       "      <th>0</th>\n",
       "      <td>4</td>\n",
       "      <td>3.9</td>\n",
       "    </tr>\n",
       "    <tr>\n",
       "      <th>2</th>\n",
       "      <td>3.8</td>\n",
       "      <td>3.9</td>\n",
       "    </tr>\n",
       "    <tr>\n",
       "      <th>5</th>\n",
       "      <td>3.785</td>\n",
       "      <td>4.0</td>\n",
       "    </tr>\n",
       "    <tr>\n",
       "      <th>7</th>\n",
       "      <td>NA</td>\n",
       "      <td>3.2</td>\n",
       "    </tr>\n",
       "    <tr>\n",
       "      <th>9</th>\n",
       "      <td>3.6</td>\n",
       "      <td>3.7</td>\n",
       "    </tr>\n",
       "  </tbody>\n",
       "</table>\n",
       "</div>"
      ],
      "text/plain": [
       "  gpa_before  gpa_during\n",
       "0          4         3.9\n",
       "2        3.8         3.9\n",
       "5      3.785         4.0\n",
       "7         NA         3.2\n",
       "9        3.6         3.7"
      ]
     },
     "execution_count": 21,
     "metadata": {},
     "output_type": "execute_result"
    }
   ],
   "source": [
    "GPA_df = GPA_df.dropna()\n",
    "GPA_df.head()"
   ]
  },
  {
   "cell_type": "markdown",
   "metadata": {},
   "source": [
    "While viewing only the top several observations, we found that there are other null values that haven't been removed. We will remove these as well."
   ]
  },
  {
   "cell_type": "code",
   "execution_count": 22,
   "metadata": {},
   "outputs": [],
   "source": [
    "GPA_df = GPA_df[GPA_df['gpa_before'].apply(lambda gpa: gpa != \" NA\")]"
   ]
  },
  {
   "cell_type": "code",
   "execution_count": 23,
   "metadata": {},
   "outputs": [
    {
     "data": {
      "text/html": [
       "<div>\n",
       "<style scoped>\n",
       "    .dataframe tbody tr th:only-of-type {\n",
       "        vertical-align: middle;\n",
       "    }\n",
       "\n",
       "    .dataframe tbody tr th {\n",
       "        vertical-align: top;\n",
       "    }\n",
       "\n",
       "    .dataframe thead th {\n",
       "        text-align: right;\n",
       "    }\n",
       "</style>\n",
       "<table border=\"1\" class=\"dataframe\">\n",
       "  <thead>\n",
       "    <tr style=\"text-align: right;\">\n",
       "      <th></th>\n",
       "      <th>gpa_before</th>\n",
       "      <th>gpa_during</th>\n",
       "    </tr>\n",
       "  </thead>\n",
       "  <tbody>\n",
       "    <tr>\n",
       "      <th>0</th>\n",
       "      <td>4</td>\n",
       "      <td>3.9</td>\n",
       "    </tr>\n",
       "    <tr>\n",
       "      <th>2</th>\n",
       "      <td>3.8</td>\n",
       "      <td>3.9</td>\n",
       "    </tr>\n",
       "    <tr>\n",
       "      <th>5</th>\n",
       "      <td>3.785</td>\n",
       "      <td>4.0</td>\n",
       "    </tr>\n",
       "    <tr>\n",
       "      <th>9</th>\n",
       "      <td>3.6</td>\n",
       "      <td>3.7</td>\n",
       "    </tr>\n",
       "    <tr>\n",
       "      <th>10</th>\n",
       "      <td>3.8</td>\n",
       "      <td>3.8</td>\n",
       "    </tr>\n",
       "  </tbody>\n",
       "</table>\n",
       "</div>"
      ],
      "text/plain": [
       "   gpa_before  gpa_during\n",
       "0           4         3.9\n",
       "2         3.8         3.9\n",
       "5       3.785         4.0\n",
       "9         3.6         3.7\n",
       "10        3.8         3.8"
      ]
     },
     "execution_count": 23,
     "metadata": {},
     "output_type": "execute_result"
    }
   ],
   "source": [
    "GPA_df.head()"
   ]
  },
  {
   "cell_type": "markdown",
   "metadata": {},
   "source": [
    "Now we have all the values, we will convert the datatype to numerics."
   ]
  },
  {
   "cell_type": "code",
   "execution_count": 26,
   "metadata": {},
   "outputs": [],
   "source": [
    "GPA_df['gpa_before'] = GPA_df['gpa_before'].astype(float)\n",
    "GPA_df['gpa_during'] = GPA_df['gpa_during'].astype(float)"
   ]
  },
  {
   "cell_type": "code",
   "execution_count": 27,
   "metadata": {},
   "outputs": [
    {
     "data": {
      "text/plain": [
       "gpa_before    float64\n",
       "gpa_during    float64\n",
       "dtype: object"
      ]
     },
     "execution_count": 27,
     "metadata": {},
     "output_type": "execute_result"
    }
   ],
   "source": [
    "GPA_df.reset_index()\n",
    "GPA_df.dtypes"
   ]
  },
  {
   "cell_type": "markdown",
   "metadata": {},
   "source": [
    "# Exploratory data analysis (EDA)"
   ]
  },
  {
   "cell_type": "markdown",
   "metadata": {},
   "source": [
    "In the survey, we have three questions that directly asked students about how they feel about the online learning experiences, including effects on study hours, academic performance and overall experiences. We asked students to answer in a scale from 1 to 5.\n",
    "\n",
    "In the question ***Do you think remote learning makes you spend more time on studying?*** 1 means spend less time and 5 means spend more time.\n",
    "\n",
    "In the question ***How do you think the online learning affect your academic performance?*** 1 means negatively affected and 5 means positively affected\n",
    "\n",
    "In the question ***How do you rank your overall remote learning experience after pandemic (since SP20)?*** 1 means least satisfied and 5 means most satisfied"
   ]
  },
  {
   "cell_type": "markdown",
   "metadata": {},
   "source": [
    "## Plots on self-reported ratings of remote learning"
   ]
  },
  {
   "cell_type": "code",
   "execution_count": 28,
   "metadata": {},
   "outputs": [
    {
     "data": {
      "text/plain": [
       "Text(0.5, 1.0, \"Students' rating on study time before and during remote learning\")"
      ]
     },
     "execution_count": 28,
     "metadata": {},
     "output_type": "execute_result"
    },
    {
     "data": {
      "image/png": "[encoded data removed]",
      "text/plain": [
       "<Figure size 432x288 with 1 Axes>"
      ]
     },
     "metadata": {
      "image/png": {
       "height": 277,
       "width": 411
      },
      "needs_background": "light"
     },
     "output_type": "display_data"
    }
   ],
   "source": [
    "studyhour_plot = sns.histplot(x='studytime_rating', data = rating_df, kde = True, bins = 10, color = 'blue')\n",
    "studyhour_plot.set_title(\"Students' rating on study time before and during remote learning\")"
   ]
  },
  {
   "cell_type": "markdown",
   "metadata": {},
   "source": [
    "From the self-reported rating on study time before and during remote learning, the plot shows that more students answered 3/4/5, which means they are spending more time studying during the pandemic than before."
   ]
  },
  {
   "cell_type": "code",
   "execution_count": 29,
   "metadata": {},
   "outputs": [
    {
     "data": {
      "text/plain": [
       "Text(0.5, 1.0, \"Students' rating on academic performance before and during remote learning\")"
      ]
     },
     "execution_count": 29,
     "metadata": {},
     "output_type": "execute_result"
    },
    {
     "data": {
      "image/png": "[encoded data removed]",
      "text/plain": [
       "<Figure size 432x288 with 1 Axes>"
      ]
     },
     "metadata": {
      "image/png": {
       "height": 277,
       "width": 482
      },
      "needs_background": "light"
     },
     "output_type": "display_data"
    }
   ],
   "source": [
    "performance_plot = sns.histplot(x='performance_rating', data = rating_df, bins = 10, color = 'green')\n",
    "performance_plot.set_title(\"Students' rating on academic performance before and during remote learning\")"
   ]
  },
  {
   "cell_type": "markdown",
   "metadata": {},
   "source": [
    "For how does remote learning affect students academic performance, less than 50% percent students answered their academic performance are positively affected by remote learning."
   ]
  },
  {
   "cell_type": "code",
   "execution_count": 30,
   "metadata": {},
   "outputs": [
    {
     "data": {
      "text/plain": [
       "Text(0.5, 1.0, \"Students' rating on experience before and during remote learning\")"
      ]
     },
     "execution_count": 30,
     "metadata": {},
     "output_type": "execute_result"
    },
    {
     "data": {
      "image/png": "[encoded data removed]",
      "text/plain": [
       "<Figure size 432x288 with 1 Axes>"
      ]
     },
     "metadata": {
      "image/png": {
       "height": 277,
       "width": 413
      },
      "needs_background": "light"
     },
     "output_type": "display_data"
    }
   ],
   "source": [
    "experience_plot = sns.histplot(x='experience_rating', data = rating_df, bins = 10, color = 'red')\n",
    "experience_plot.set_title(\"Students' rating on experience before and during remote learning\")"
   ]
  },
  {
   "cell_type": "markdown",
   "metadata": {},
   "source": [
    "In this plot, majority of the students reported *neutral* on how have their overall experience changed before and by the remote learning during the pandemic. There were also some students feel their performance negatively affected."
   ]
  },
  {
   "cell_type": "markdown",
   "metadata": {},
   "source": [
    "#### To summarize, in students self-reported data, we found that most students feel they have increased their study hours during the pandemic but only about 50% of the students feel that their academic performance are negatively affected, and the overall experience of remote learning dissatisfied, with the majority of them picked 'neutral'.\\n\",\n",
    "#### Our hypothesis was that remote learning negatively affected students' learning experiences. From students self-reported ratings on studytime, academic performance and overall experiences, we do not yet have strong evidence to support our hypothesis, but the data shows that at least 50% of the students feel their learning experiences are negatively affected by remote learning experiences. "
   ]
  },
  {
   "cell_type": "markdown",
   "metadata": {},
   "source": [
    "## Difference between study hours before and during the remote learning in the pandemic?"
   ]
  },
  {
   "cell_type": "markdown",
   "metadata": {},
   "source": [
    "To further investigate how online learning during the pandemic affects students' academic performance and expectations, we will look at more detailed data - study hours and GPA."
   ]
  },
  {
   "cell_type": "code",
   "execution_count": 31,
   "metadata": {},
   "outputs": [
    {
     "data": {
      "text/plain": [
       "Text(0.5, 1.0, \"Students' study hours before and during remote learning\")"
      ]
     },
     "execution_count": 31,
     "metadata": {},
     "output_type": "execute_result"
    },
    {
     "data": {
      "image/png": "[encoded data removed]",
      "text/plain": [
       "<Figure size 432x288 with 1 Axes>"
      ]
     },
     "metadata": {
      "image/png": {
       "height": 277,
       "width": 379
      },
      "needs_background": "light"
     },
     "output_type": "display_data"
    }
   ],
   "source": [
    "studyhour_before_plot = sns.histplot(x='studytime_before', data = studytime_df, binwidth = 3, color = 'navy')\n",
    "studyhour_during_plot = sns.histplot(x='studytime_during', data = studytime_df, binwidth = 3, color = 'yellow')\n",
    "studyhour_during_plot.set_title(\"Students' study hours before and during remote learning\")"
   ]
  },
  {
   "cell_type": "markdown",
   "metadata": {},
   "source": [
    "From the above plot, we found that there are values that are greater than 30, which is a unrealistic number for study hour of each class per week. Our guess is that the student might misread the question and thought it was asking for total hours per week. We will remove these observation for the clearity of the plot and analysis."
   ]
  },
  {
   "cell_type": "code",
   "execution_count": 32,
   "metadata": {},
   "outputs": [
    {
     "data": {
      "text/html": [
       "<div>\n",
       "<style scoped>\n",
       "    .dataframe tbody tr th:only-of-type {\n",
       "        vertical-align: middle;\n",
       "    }\n",
       "\n",
       "    .dataframe tbody tr th {\n",
       "        vertical-align: top;\n",
       "    }\n",
       "\n",
       "    .dataframe thead th {\n",
       "        text-align: right;\n",
       "    }\n",
       "</style>\n",
       "<table border=\"1\" class=\"dataframe\">\n",
       "  <thead>\n",
       "    <tr style=\"text-align: right;\">\n",
       "      <th></th>\n",
       "      <th>index</th>\n",
       "      <th>studytime_before</th>\n",
       "      <th>studytime_during</th>\n",
       "    </tr>\n",
       "  </thead>\n",
       "  <tbody>\n",
       "    <tr>\n",
       "      <th>0</th>\n",
       "      <td>0</td>\n",
       "      <td>4.0</td>\n",
       "      <td>7.0</td>\n",
       "    </tr>\n",
       "    <tr>\n",
       "      <th>1</th>\n",
       "      <td>2</td>\n",
       "      <td>8.0</td>\n",
       "      <td>6.0</td>\n",
       "    </tr>\n",
       "    <tr>\n",
       "      <th>2</th>\n",
       "      <td>5</td>\n",
       "      <td>1.0</td>\n",
       "      <td>1.0</td>\n",
       "    </tr>\n",
       "    <tr>\n",
       "      <th>3</th>\n",
       "      <td>9</td>\n",
       "      <td>8.0</td>\n",
       "      <td>7.0</td>\n",
       "    </tr>\n",
       "    <tr>\n",
       "      <th>4</th>\n",
       "      <td>10</td>\n",
       "      <td>3.0</td>\n",
       "      <td>4.0</td>\n",
       "    </tr>\n",
       "    <tr>\n",
       "      <th>5</th>\n",
       "      <td>11</td>\n",
       "      <td>6.0</td>\n",
       "      <td>8.0</td>\n",
       "    </tr>\n",
       "    <tr>\n",
       "      <th>6</th>\n",
       "      <td>12</td>\n",
       "      <td>4.0</td>\n",
       "      <td>2.5</td>\n",
       "    </tr>\n",
       "    <tr>\n",
       "      <th>7</th>\n",
       "      <td>13</td>\n",
       "      <td>8.0</td>\n",
       "      <td>10.0</td>\n",
       "    </tr>\n",
       "    <tr>\n",
       "      <th>8</th>\n",
       "      <td>14</td>\n",
       "      <td>6.0</td>\n",
       "      <td>10.0</td>\n",
       "    </tr>\n",
       "    <tr>\n",
       "      <th>9</th>\n",
       "      <td>16</td>\n",
       "      <td>5.0</td>\n",
       "      <td>4.0</td>\n",
       "    </tr>\n",
       "    <tr>\n",
       "      <th>10</th>\n",
       "      <td>17</td>\n",
       "      <td>1.0</td>\n",
       "      <td>2.0</td>\n",
       "    </tr>\n",
       "    <tr>\n",
       "      <th>11</th>\n",
       "      <td>18</td>\n",
       "      <td>20.0</td>\n",
       "      <td>20.0</td>\n",
       "    </tr>\n",
       "    <tr>\n",
       "      <th>12</th>\n",
       "      <td>19</td>\n",
       "      <td>7.0</td>\n",
       "      <td>10.0</td>\n",
       "    </tr>\n",
       "    <tr>\n",
       "      <th>13</th>\n",
       "      <td>20</td>\n",
       "      <td>7.0</td>\n",
       "      <td>6.5</td>\n",
       "    </tr>\n",
       "    <tr>\n",
       "      <th>14</th>\n",
       "      <td>21</td>\n",
       "      <td>6.0</td>\n",
       "      <td>7.0</td>\n",
       "    </tr>\n",
       "    <tr>\n",
       "      <th>15</th>\n",
       "      <td>22</td>\n",
       "      <td>11.0</td>\n",
       "      <td>7.0</td>\n",
       "    </tr>\n",
       "    <tr>\n",
       "      <th>16</th>\n",
       "      <td>23</td>\n",
       "      <td>4.0</td>\n",
       "      <td>6.0</td>\n",
       "    </tr>\n",
       "    <tr>\n",
       "      <th>17</th>\n",
       "      <td>24</td>\n",
       "      <td>6.0</td>\n",
       "      <td>10.0</td>\n",
       "    </tr>\n",
       "    <tr>\n",
       "      <th>18</th>\n",
       "      <td>32</td>\n",
       "      <td>8.0</td>\n",
       "      <td>10.0</td>\n",
       "    </tr>\n",
       "    <tr>\n",
       "      <th>19</th>\n",
       "      <td>33</td>\n",
       "      <td>12.0</td>\n",
       "      <td>10.0</td>\n",
       "    </tr>\n",
       "    <tr>\n",
       "      <th>20</th>\n",
       "      <td>35</td>\n",
       "      <td>10.0</td>\n",
       "      <td>3.0</td>\n",
       "    </tr>\n",
       "    <tr>\n",
       "      <th>21</th>\n",
       "      <td>36</td>\n",
       "      <td>7.0</td>\n",
       "      <td>6.5</td>\n",
       "    </tr>\n",
       "    <tr>\n",
       "      <th>22</th>\n",
       "      <td>40</td>\n",
       "      <td>2.0</td>\n",
       "      <td>4.0</td>\n",
       "    </tr>\n",
       "  </tbody>\n",
       "</table>\n",
       "</div>"
      ],
      "text/plain": [
       "    index  studytime_before  studytime_during\n",
       "0       0               4.0               7.0\n",
       "1       2               8.0               6.0\n",
       "2       5               1.0               1.0\n",
       "3       9               8.0               7.0\n",
       "4      10               3.0               4.0\n",
       "5      11               6.0               8.0\n",
       "6      12               4.0               2.5\n",
       "7      13               8.0              10.0\n",
       "8      14               6.0              10.0\n",
       "9      16               5.0               4.0\n",
       "10     17               1.0               2.0\n",
       "11     18              20.0              20.0\n",
       "12     19               7.0              10.0\n",
       "13     20               7.0               6.5\n",
       "14     21               6.0               7.0\n",
       "15     22              11.0               7.0\n",
       "16     23               4.0               6.0\n",
       "17     24               6.0              10.0\n",
       "18     32               8.0              10.0\n",
       "19     33              12.0              10.0\n",
       "20     35              10.0               3.0\n",
       "21     36               7.0               6.5\n",
       "22     40               2.0               4.0"
      ]
     },
     "execution_count": 32,
     "metadata": {},
     "output_type": "execute_result"
    }
   ],
   "source": [
    "studytime_df = studytime_df[(studytime_df['studytime_before'] < 30) & (studytime_df['studytime_during'] < 30)]\n",
    "studytime_df.reset_index()"
   ]
  },
  {
   "cell_type": "markdown",
   "metadata": {},
   "source": [
    "Before making the plot, we want to have a look of the average study hours before and during the remote learning to see if there is a difference in mean."
   ]
  },
  {
   "cell_type": "code",
   "execution_count": 33,
   "metadata": {},
   "outputs": [
    {
     "name": "stdout",
     "output_type": "stream",
     "text": [
      "6.695652173913044 7.021739130434782\n"
     ]
    }
   ],
   "source": [
    "studyhour_before_mean = studytime_df['studytime_before'].mean()\n",
    "studyhour_during_mean = studytime_df['studytime_during'].mean()\n",
    "print(studyhour_before_mean, studyhour_during_mean)"
   ]
  },
  {
   "cell_type": "markdown",
   "metadata": {},
   "source": [
    "From the calculation, it seems that there is a difference between study hours before and during the pandemic. We will now plot these data to see the distributions."
   ]
  },
  {
   "cell_type": "code",
   "execution_count": 34,
   "metadata": {},
   "outputs": [
    {
     "data": {
      "text/plain": [
       "Text(0.5, 0, 'study hours')"
      ]
     },
     "execution_count": 34,
     "metadata": {},
     "output_type": "execute_result"
    },
    {
     "data": {
      "image/png": "[encoded data removed]",
      "text/plain": [
       "<Figure size 432x288 with 1 Axes>"
      ]
     },
     "metadata": {
      "image/png": {
       "height": 277,
       "width": 379
      },
      "needs_background": "light"
     },
     "output_type": "display_data"
    }
   ],
   "source": [
    "studyhour_before_plot = sns.histplot(x='studytime_before', data = studytime_df, binwidth = 1, color = 'navy')\n",
    "studyhour_during_plot = sns.histplot(x='studytime_during', data = studytime_df, binwidth = 1, color = 'yellow')\n",
    "studyhour_during_plot.set_title(\"Students' study hours before and during remote learning\")\n",
    "studyhour_during_plot.set_xlabel('study hours')"
   ]
  },
  {
   "cell_type": "markdown",
   "metadata": {},
   "source": [
    "The plot shows that during the pandemic(yellow), the students who study for 10 hours are more than that before the pandemic. But there are some students who studied for over 10 hours per day before the pandemic. Also, there is a single student whose study hour increased to 20 hours during the pandemic."
   ]
  },
  {
   "cell_type": "markdown",
   "metadata": {},
   "source": [
    "The plot allows us to compare the overall distribution of study hours before and during the remote learning, but it is not great for visualizing differences, so we will plot a histogram for difference only."
   ]
  },
  {
   "cell_type": "code",
   "execution_count": 35,
   "metadata": {},
   "outputs": [],
   "source": [
    "studytime_df = studytime_df.assign(diff = studytime_df['studytime_during'] - studytime_df['studytime_before'])"
   ]
  },
  {
   "cell_type": "code",
   "execution_count": 36,
   "metadata": {},
   "outputs": [
    {
     "data": {
      "text/plain": [
       "Text(0.5, 1.0, 'Difference in study time before and during remote learning')"
      ]
     },
     "execution_count": 36,
     "metadata": {},
     "output_type": "execute_result"
    },
    {
     "data": {
      "image/png": "[encoded data removed]",
      "text/plain": [
       "<Figure size 432x288 with 1 Axes>"
      ]
     },
     "metadata": {
      "image/png": {
       "height": 277,
       "width": 386
      },
      "needs_background": "light"
     },
     "output_type": "display_data"
    }
   ],
   "source": [
    "studyhour_diff_plot = sns.histplot(x='diff', data = studytime_df, bins = 20, color = 'purple')\n",
    "studyhour_diff_plot.set_title(\"Difference in study time before and during remote learning\")"
   ]
  },
  {
   "cell_type": "markdown",
   "metadata": {},
   "source": [
    "The plot shows that about half of the students' study hours increased during the remote learning, but there are still students whose study hours reduced 6 hours during the remote learning. From this plot, we could not make any conclusion on whether students' study hours increased or not in the pandemic."
   ]
  },
  {
   "cell_type": "markdown",
   "metadata": {},
   "source": [
    "## Difference in academic performance before and during the remote learning?"
   ]
  },
  {
   "cell_type": "markdown",
   "metadata": {},
   "source": [
    "To measure the academic performance, we will mainly be using students GPA before and during the pandemic."
   ]
  },
  {
   "cell_type": "markdown",
   "metadata": {},
   "source": [
    "First, we will take a look of the average GPA before and during remote learning. "
   ]
  },
  {
   "cell_type": "code",
   "execution_count": 37,
   "metadata": {},
   "outputs": [
    {
     "name": "stdout",
     "output_type": "stream",
     "text": [
      "3.619318181818181 3.6950000000000003\n"
     ]
    }
   ],
   "source": [
    "gpa_before_mean = GPA_df['gpa_before'].mean()\n",
    "gpa_during_mean = GPA_df['gpa_during'].mean()\n",
    "print(gpa_before_mean, gpa_during_mean)"
   ]
  },
  {
   "cell_type": "markdown",
   "metadata": {},
   "source": [
    "The average values show there is only a small difference between GPAs before and during the pandemic, we will now plot the graphs to see details on GPA."
   ]
  },
  {
   "cell_type": "code",
   "execution_count": 38,
   "metadata": {},
   "outputs": [
    {
     "data": {
      "text/plain": [
       "Text(0.5, 0, 'GPA')"
      ]
     },
     "execution_count": 38,
     "metadata": {},
     "output_type": "execute_result"
    },
    {
     "data": {
      "image/png": "[encoded data removed]",
      "text/plain": [
       "<Figure size 432x288 with 1 Axes>"
      ]
     },
     "metadata": {
      "image/png": {
       "height": 277,
       "width": 376
      },
      "needs_background": "light"
     },
     "output_type": "display_data"
    }
   ],
   "source": [
    "gpa_before_plot = sns.histplot(x='gpa_before', data = GPA_df, bins = 15, color = 'red')\n",
    "gpa_during_plot = sns.histplot(x='gpa_during', data = GPA_df, bins = 15, color = 'green')\n",
    "gpa_during_plot.set_title(\"Students' GPA before and during remote learning\")\n",
    "gpa_during_plot.set_xlabel('GPA')"
   ]
  },
  {
   "cell_type": "markdown",
   "metadata": {},
   "source": [
    "The plot shows that more students have a close to 3.0 GPA before than during the remote learning."
   ]
  },
  {
   "cell_type": "code",
   "execution_count": 39,
   "metadata": {},
   "outputs": [],
   "source": [
    "GPA_df = GPA_df.assign(diff = GPA_df['gpa_during'] - GPA_df['gpa_before'])"
   ]
  },
  {
   "cell_type": "code",
   "execution_count": 41,
   "metadata": {},
   "outputs": [
    {
     "data": {
      "text/plain": [
       "Text(0.5, 1.0, 'Difference in GPA before and during remote learning')"
      ]
     },
     "execution_count": 41,
     "metadata": {},
     "output_type": "execute_result"
    },
    {
     "data": {
      "image/png": "[encoded data removed]",
      "text/plain": [
       "<Figure size 432x288 with 1 Axes>"
      ]
     },
     "metadata": {
      "image/png": {
       "height": 277,
       "width": 376
      },
      "needs_background": "light"
     },
     "output_type": "display_data"
    }
   ],
   "source": [
    "gpa_diff_plot = sns.histplot(x='diff', data = GPA_df, bins = 30, color = 'orange')\n",
    "gpa_diff_plot.set_title(\"Difference in GPA before and during remote learning\")"
   ]
  },
  {
   "cell_type": "markdown",
   "metadata": {},
   "source": [
    "From this plot, we can see that most students' GPA actually increased during the remote learning than before."
   ]
  },
  {
   "cell_type": "markdown",
   "metadata": {},
   "source": [
    "#### By looking at the difference in studytime and GPA before and during the pandemic, we found that the learning experiences in terms of study hours have increased during the remote learning, however, students average GPA also increased during the remote learning."
   ]
  },
  {
   "cell_type": "code",
   "execution_count": null,
   "metadata": {},
   "outputs": [],
   "source": []
  }
 ],
 "metadata": {
  "kernelspec": {
   "display_name": "Python 3",
   "language": "python",
   "name": "python3"
  },
  "language_info": {
   "codemirror_mode": {
    "name": "ipython",
    "version": 3
   },
   "file_extension": ".py",
   "mimetype": "text/x-python",
   "name": "python",
   "nbconvert_exporter": "python",
   "pygments_lexer": "ipython3",
   "version": "3.8.5"
  }
 },
 "nbformat": 4,
 "nbformat_minor": 4
}
